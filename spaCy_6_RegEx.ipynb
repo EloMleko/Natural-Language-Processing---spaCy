{
  "nbformat": 4,
  "nbformat_minor": 0,
  "metadata": {
    "colab": {
      "provenance": [],
      "authorship_tag": "ABX9TyOGoqltzE4pbdQV7aw0QVCV",
      "include_colab_link": true
    },
    "kernelspec": {
      "name": "python3",
      "display_name": "Python 3"
    },
    "language_info": {
      "name": "python"
    }
  },
  "cells": [
    {
      "cell_type": "markdown",
      "metadata": {
        "id": "view-in-github",
        "colab_type": "text"
      },
      "source": [
        "<a href=\"https://colab.research.google.com/github/EloMleko/Natural-Language-Processing---spaCy/blob/main/spaCy_6_RegEx.ipynb\" target=\"_parent\"><img src=\"https://colab.research.google.com/assets/colab-badge.svg\" alt=\"Open In Colab\"/></a>"
      ]
    },
    {
      "cell_type": "code",
      "execution_count": 1,
      "metadata": {
        "id": "n1eA_dI3e2Om"
      },
      "outputs": [],
      "source": [
        "import re"
      ]
    },
    {
      "cell_type": "code",
      "source": [
        "text = 'Paul Newman was an American actor, but Paul Hollywood is a British TV Host. The name Paul is quiet common.'"
      ],
      "metadata": {
        "id": "C6ROxtWIz33n"
      },
      "execution_count": 2,
      "outputs": []
    },
    {
      "cell_type": "code",
      "source": [
        "pattern = r'Paul [A-Z]\\w+'"
      ],
      "metadata": {
        "id": "gW8PTqnT0DIr"
      },
      "execution_count": 3,
      "outputs": []
    },
    {
      "cell_type": "code",
      "source": [
        "matches = re.finditer(pattern, text)\n",
        "for matchy in matches:\n",
        "  print(matchy)"
      ],
      "metadata": {
        "colab": {
          "base_uri": "https://localhost:8080/"
        },
        "id": "3AUHYz8Y0Nn6",
        "outputId": "5b52eb2f-16bf-4cbf-e0dd-372e789f680e"
      },
      "execution_count": 5,
      "outputs": [
        {
          "output_type": "stream",
          "name": "stdout",
          "text": [
            "<re.Match object; span=(0, 11), match='Paul Newman'>\n",
            "<re.Match object; span=(39, 53), match='Paul Hollywood'>\n"
          ]
        }
      ]
    },
    {
      "cell_type": "code",
      "source": [
        "nlp = spacy.load('en_core_web_sm')"
      ],
      "metadata": {
        "id": "hKq7GZHCe7jP"
      },
      "execution_count": 3,
      "outputs": []
    },
    {
      "cell_type": "code",
      "source": [
        "import spacy\n",
        "from spacy.tokens import Span"
      ],
      "metadata": {
        "id": "tjf1s2FvfBCD"
      },
      "execution_count": 6,
      "outputs": []
    },
    {
      "cell_type": "code",
      "source": [
        "nlp = spacy.blank('en')\n",
        "doc = nlp(text)\n",
        "original_ents = list(doc.ents)\n",
        "mwt_ents = []\n",
        "for match in re.finditer(pattern, doc.text):\n",
        "  start, end = match.span()\n",
        "  span = doc.char_span(start, end)\n",
        "  if span is not None:\n",
        "    mwt_ents.append((span.start, span.end, span.text))\n",
        "\n",
        "for ent in mwt_ents:\n",
        "  start, end, name = ent\n",
        "  per_ent = Span(doc, start, end, label='PERSON')\n",
        "  original_ents.append(per_ent)\n",
        "doc.ents = original_ents\n",
        "\n",
        "for ent in doc.ents:\n",
        "  print(ent.text, ent.label_)"
      ],
      "metadata": {
        "colab": {
          "base_uri": "https://localhost:8080/"
        },
        "id": "LKFXystZ0lFR",
        "outputId": "d10564df-3c18-418c-d1d2-f1d9b1609e9a"
      },
      "execution_count": 12,
      "outputs": [
        {
          "output_type": "stream",
          "name": "stdout",
          "text": [
            "(Paul Newman, Paul Hollywood)\n",
            "Paul Newman PERSON\n",
            "Paul Hollywood PERSON\n"
          ]
        }
      ]
    },
    {
      "cell_type": "code",
      "source": [
        "from spacy.language import Language\n",
        "\n",
        "@Language.component('paul_ner')\n",
        "def paul_ner(doc):\n",
        "  pattern = r'Paul [A-Z]\\w+'\n",
        "  original_ents = list(doc.ents)\n",
        "  mwt_ents = []\n",
        "  for match in re.finditer(pattern, doc.text):\n",
        "    start, end = match.span()\n",
        "    span = doc.char_span(start, end)\n",
        "    if span is not None:\n",
        "      mwt_ents.append((span.start, span.end, span.text))\n",
        "\n",
        "  for ent in mwt_ents:\n",
        "    start, end, name = ent\n",
        "    per_ent = Span(doc, start, end, label='PERSON')\n",
        "    original_ents.append(per_ent)\n",
        "  doc.ents = original_ents\n",
        "  return (doc)"
      ],
      "metadata": {
        "id": "fxarnc0W0piv"
      },
      "execution_count": 15,
      "outputs": []
    },
    {
      "cell_type": "code",
      "source": [
        "nlp2 = spacy.blank('en')\n",
        "nlp2.add_pipe('paul_ner')"
      ],
      "metadata": {
        "colab": {
          "base_uri": "https://localhost:8080/"
        },
        "id": "e3oXJ5kJ1d4V",
        "outputId": "9793669a-2f13-44ca-cc40-96bba7461335"
      },
      "execution_count": 16,
      "outputs": [
        {
          "output_type": "execute_result",
          "data": {
            "text/plain": [
              "<function __main__.paul_ner(doc)>"
            ]
          },
          "metadata": {},
          "execution_count": 16
        }
      ]
    },
    {
      "cell_type": "code",
      "source": [
        "doc2 = nlp2(text)\n",
        "print (doc2.ents)"
      ],
      "metadata": {
        "colab": {
          "base_uri": "https://localhost:8080/"
        },
        "id": "Ny4Kqf-62rBk",
        "outputId": "7df67c5a-7a86-4a52-d5ba-97ebce4a61ac"
      },
      "execution_count": 17,
      "outputs": [
        {
          "output_type": "stream",
          "name": "stdout",
          "text": [
            "(Paul Newman, Paul Hollywood)\n"
          ]
        }
      ]
    },
    {
      "cell_type": "code",
      "source": [
        "from spacy.language import Language\n",
        "from spacy.util import filter_spans\n",
        "@Language.component('paul_ner')\n",
        "def paul_ner(doc):\n",
        "  pattern = r'Hollywood'\n",
        "  original_ents = list(doc.ents)\n",
        "  mwt_ents = []\n",
        "  for match in re.finditer(pattern, doc.text):\n",
        "    start, end = match.span()\n",
        "    span = doc.char_span(start, end)\n",
        "    if span is not None:\n",
        "      mwt_ents.append((span.start, span.end, span.text))\n",
        "\n",
        "  for ent in mwt_ents:\n",
        "    start, end, name = ent\n",
        "    per_ent = Span(doc, start, end, label='CINEMA')\n",
        "    original_ents.append(per_ent)\n",
        "  filtered = filter_spans(original_ents)\n",
        "  doc.ents = original_ents\n",
        "  return (doc)"
      ],
      "metadata": {
        "id": "pJwzp3fe23x_"
      },
      "execution_count": 22,
      "outputs": []
    },
    {
      "cell_type": "code",
      "source": [
        "nlp3 = spacy.load('en_core_web_sm')"
      ],
      "metadata": {
        "id": "6qNUp4UO3IWR"
      },
      "execution_count": 19,
      "outputs": []
    },
    {
      "cell_type": "code",
      "source": [
        "doc3 = nlp3(text)\n",
        "for ent in doc3.ents:\n",
        "  print(ent.text, ent.label_)"
      ],
      "metadata": {
        "colab": {
          "base_uri": "https://localhost:8080/"
        },
        "id": "HVYUqo-Z3SkV",
        "outputId": "6e803c27-35f9-4df9-93e2-b84ba191ac25"
      },
      "execution_count": 23,
      "outputs": [
        {
          "output_type": "stream",
          "name": "stdout",
          "text": [
            "Paul Newman PERSON\n",
            "American NORP\n",
            "Paul Hollywood PERSON\n",
            "British NORP\n",
            "Paul PERSON\n"
          ]
        }
      ]
    },
    {
      "cell_type": "code",
      "source": [],
      "metadata": {
        "id": "Z8R7N8nY3Ual"
      },
      "execution_count": null,
      "outputs": []
    }
  ]
}