{
  "nbformat": 4,
  "nbformat_minor": 0,
  "metadata": {
    "colab": {
      "provenance": [],
      "mount_file_id": "1ZmSl508yloxi3SJ-4WVeCogkw24EQPSL",
      "authorship_tag": "ABX9TyM895P5YPT0wtjWymsh6OaT",
      "include_colab_link": true
    },
    "kernelspec": {
      "name": "python3",
      "display_name": "Python 3"
    },
    "language_info": {
      "name": "python"
    }
  },
  "cells": [
    {
      "cell_type": "markdown",
      "metadata": {
        "id": "view-in-github",
        "colab_type": "text"
      },
      "source": [
        "<a href=\"https://colab.research.google.com/github/EloMleko/Natural-Language-Processing---spaCy/blob/main/spaCy_md_model.ipynb\" target=\"_parent\"><img src=\"https://colab.research.google.com/assets/colab-badge.svg\" alt=\"Open In Colab\"/></a>"
      ]
    },
    {
      "cell_type": "code",
      "execution_count": null,
      "metadata": {
        "id": "ScacNoKXvAD0"
      },
      "outputs": [],
      "source": [
        "import spacy\n",
        "!python -m spacy download en_core_web_md"
      ]
    },
    {
      "cell_type": "code",
      "source": [
        "nlp = spacy.load('en_core_web_md')"
      ],
      "metadata": {
        "id": "t-nd7Wx-vEnQ"
      },
      "execution_count": 2,
      "outputs": []
    },
    {
      "cell_type": "code",
      "source": [
        "with open('/content/drive/MyDrive/Colab Notebooks/wiki_us.txt', 'r') as f:\n",
        "  text = f.read()"
      ],
      "metadata": {
        "id": "KzII9SqO-Lu5"
      },
      "execution_count": 3,
      "outputs": []
    },
    {
      "cell_type": "code",
      "source": [
        "doc = nlp(text)\n",
        "sentence1 = list(doc.sents)[0]"
      ],
      "metadata": {
        "id": "qq3OZAhn-xzk"
      },
      "execution_count": 4,
      "outputs": []
    },
    {
      "cell_type": "code",
      "source": [
        "import numpy as np"
      ],
      "metadata": {
        "id": "ejaL2A8X_oAN"
      },
      "execution_count": 5,
      "outputs": []
    },
    {
      "cell_type": "code",
      "source": [
        "your_word = 'usa'\n",
        "\n",
        "ms = nlp.vocab.vectors.most_similar(\n",
        "    np.asarray([nlp.vocab.vectors[nlp.vocab.strings[your_word]]]), n=10)\n",
        "words = [nlp.vocab.strings[w] for w in ms[0][0]]\n",
        "distance = ms[2]\n",
        "print(words)"
      ],
      "metadata": {
        "colab": {
          "base_uri": "https://localhost:8080/"
        },
        "id": "7lKDhad0-3rH",
        "outputId": "7da25aee-40fa-4e6f-f7a7-94bea3c3c3e4"
      },
      "execution_count": 6,
      "outputs": [
        {
          "output_type": "stream",
          "name": "stdout",
          "text": [
            "['ucc', 'michelob', 'avapro', 'cialis</a', '6580', 'MelOn', 'oricha', 'australasica', 'orle', 'now|cheap']\n"
          ]
        }
      ]
    },
    {
      "cell_type": "code",
      "source": [
        "doc1 = nlp('I like salty fries and hamburgers.')\n",
        "doc2 = nlp('Fast food tastes very good.')"
      ],
      "metadata": {
        "id": "-XPA4S-U_Nfw"
      },
      "execution_count": 7,
      "outputs": []
    },
    {
      "cell_type": "code",
      "source": [
        "print(doc1, \"<->\", doc2, doc1.similarity(doc2))"
      ],
      "metadata": {
        "colab": {
          "base_uri": "https://localhost:8080/"
        },
        "id": "JA2_P5Sg_38A",
        "outputId": "a006f6d1-684e-4a09-f378-f6395f6672ff"
      },
      "execution_count": 8,
      "outputs": [
        {
          "output_type": "stream",
          "name": "stdout",
          "text": [
            "I like salty fries and hamburgers. <-> Fast food tastes very good. 0.691649353055761\n"
          ]
        }
      ]
    },
    {
      "cell_type": "code",
      "source": [
        "doc3 = nlp('The Empire State Building is in NY')"
      ],
      "metadata": {
        "id": "0Dt5ztnKBeAo"
      },
      "execution_count": 9,
      "outputs": []
    },
    {
      "cell_type": "code",
      "source": [
        "print(doc1, \"<->\", doc2, doc1.similarity(doc3))"
      ],
      "metadata": {
        "colab": {
          "base_uri": "https://localhost:8080/"
        },
        "id": "klVs3wPaBmjI",
        "outputId": "04b30b2a-fade-42a2-a297-e3b238389669"
      },
      "execution_count": 10,
      "outputs": [
        {
          "output_type": "stream",
          "name": "stdout",
          "text": [
            "I like salty fries and hamburgers. <-> Fast food tastes very good. 0.07287386311862266\n"
          ]
        }
      ]
    },
    {
      "cell_type": "code",
      "source": [
        "doc4 = nlp(\"I enjoy oranges.\")\n",
        "doc5 = nlp('I enjoy apples.')"
      ],
      "metadata": {
        "id": "WPS_Irl-BpzO"
      },
      "execution_count": 11,
      "outputs": []
    },
    {
      "cell_type": "code",
      "source": [
        "print(doc4, \"<->\", doc5, doc4.similarity(doc5))"
      ],
      "metadata": {
        "colab": {
          "base_uri": "https://localhost:8080/"
        },
        "id": "ORpl-JCHB7bX",
        "outputId": "cc0a62fc-ea0b-48bd-c6c8-cefc1b513fca"
      },
      "execution_count": 12,
      "outputs": [
        {
          "output_type": "stream",
          "name": "stdout",
          "text": [
            "I enjoy oranges. <-> I enjoy apples. 0.9775702131220241\n"
          ]
        }
      ]
    },
    {
      "cell_type": "code",
      "source": [
        "doc6 = nlp('I enjoy burgers')"
      ],
      "metadata": {
        "id": "HaqhTAkoB-o_"
      },
      "execution_count": 13,
      "outputs": []
    },
    {
      "cell_type": "code",
      "source": [
        "print(doc5, \"<->\", doc6, doc5.similarity(doc6))"
      ],
      "metadata": {
        "colab": {
          "base_uri": "https://localhost:8080/"
        },
        "id": "UxD0A_0kCFb_",
        "outputId": "f5e84411-7448-4dc0-9b4b-4969667017fb"
      },
      "execution_count": 14,
      "outputs": [
        {
          "output_type": "stream",
          "name": "stdout",
          "text": [
            "I enjoy apples. <-> I enjoy burgers 0.9007735287925289\n"
          ]
        }
      ]
    },
    {
      "cell_type": "code",
      "source": [
        "french_fries = doc1[2:4]\n",
        "burgers = nlp('nails')\n",
        "print(french_fries.similarity(burgers))"
      ],
      "metadata": {
        "colab": {
          "base_uri": "https://localhost:8080/"
        },
        "id": "u_4hMeRHCbOH",
        "outputId": "529888ae-4aac-4aaa-d187-d3b005b86c43"
      },
      "execution_count": 17,
      "outputs": [
        {
          "output_type": "stream",
          "name": "stdout",
          "text": [
            "0.2495320952819944\n"
          ]
        }
      ]
    },
    {
      "cell_type": "code",
      "source": [
        "nlp = spacy.blank('en')"
      ],
      "metadata": {
        "id": "DM7eiw9lCi_g"
      },
      "execution_count": 18,
      "outputs": []
    },
    {
      "cell_type": "code",
      "source": [
        "nlp.add_pipe('sentencizer')"
      ],
      "metadata": {
        "colab": {
          "base_uri": "https://localhost:8080/"
        },
        "id": "yTXTWQFjEVBZ",
        "outputId": "fe824d20-6dad-4448-b13b-5683d213dff2"
      },
      "execution_count": 19,
      "outputs": [
        {
          "output_type": "execute_result",
          "data": {
            "text/plain": [
              "<spacy.pipeline.sentencizer.Sentencizer at 0x7ab8798069c0>"
            ]
          },
          "metadata": {},
          "execution_count": 19
        }
      ]
    },
    {
      "cell_type": "code",
      "source": [
        "nlp.analyze_pipes()"
      ],
      "metadata": {
        "colab": {
          "base_uri": "https://localhost:8080/"
        },
        "id": "Y6iAEfTPEXRI",
        "outputId": "87f991dc-be99-4297-f47d-44e3d33a531c"
      },
      "execution_count": 20,
      "outputs": [
        {
          "output_type": "execute_result",
          "data": {
            "text/plain": [
              "{'summary': {'sentencizer': {'assigns': ['token.is_sent_start', 'doc.sents'],\n",
              "   'requires': [],\n",
              "   'scores': ['sents_f', 'sents_p', 'sents_r'],\n",
              "   'retokenizes': False}},\n",
              " 'problems': {'sentencizer': []},\n",
              " 'attrs': {'token.is_sent_start': {'assigns': ['sentencizer'], 'requires': []},\n",
              "  'doc.sents': {'assigns': ['sentencizer'], 'requires': []}}}"
            ]
          },
          "metadata": {},
          "execution_count": 20
        }
      ]
    },
    {
      "cell_type": "code",
      "source": [
        "nlp2 = spacy.load('en_core_web_sm')"
      ],
      "metadata": {
        "id": "13gQrGUDE-If"
      },
      "execution_count": 21,
      "outputs": []
    },
    {
      "cell_type": "code",
      "source": [
        "nlp2.analyze_pipes()"
      ],
      "metadata": {
        "id": "jerYhkGVFKt_"
      },
      "execution_count": null,
      "outputs": []
    }
  ]
}